{
 "cells": [
  {
   "cell_type": "code",
   "execution_count": 8,
   "metadata": {},
   "outputs": [],
   "source": [
    "import pandas as pd\n",
    "\n",
    "#import data\n",
    "df = pd.read_csv('input.csv')\n",
    "#split the column \"Transaction Code\" and name the column \"Bank\"\n",
    "df['Bank'] = df['Transaction Code'].apply(lambda x: x.split('-')[0])\n",
    "\n",
    "#Rename the values in \"Online or In-person\" column, 1 = Online and 2 = In-Person\n",
    "df['Online or In-Person']=df['Online or In-Person'].apply(lambda x:'Online' if x == 1 else 'In-Person')\n",
    "\n",
    "#Convert \"Transaction Date\" from string to datetime type\n",
    "df['Transaction Date'] = pd.to_datetime(df['Transaction Date'], format= \"%d/%m/%Y %H:%M:%S\")\n",
    "\n",
    "#Change the column \"Transaction date\" to be the day of the week\n",
    "df['Transaction Date'] = df['Transaction Date'].apply(lambda x : x.day_name())\n",
    "\n",
    "#Total Values of Transactions by each bank\n",
    "total_values= df.groupby('Bank')['Value'].sum()\n",
    "\n",
    "#export csv\n",
    "total_values.to_csv(\"/Users/gouriguggari/Desktop/Data-Prep/Total_Values.csv\")\n",
    "\n",
    "#Total Values by Bank, Day of the Week and Type of Transaction (Online or In-Person)\n",
    "total_value_by= df.groupby(['Bank','Transaction Date','Online or In-Person'])['Value'].sum()\n",
    "\n",
    "##export csv\n",
    "total_value_by.to_csv(\"/Users/gouriguggari/Desktop/Data-Prep/Total_Values_by.csv\")\n",
    "\n",
    "total_value_by_custcode= df.groupby(['Bank','Customer Code'])['Value'].sum()\n",
    "\n",
    "\n",
    "\n",
    "\n",
    "\n"
   ]
  },
  {
   "cell_type": "code",
   "execution_count": 9,
   "metadata": {},
   "outputs": [
    {
     "data": {
      "text/plain": [
       "Bank  Customer Code\n",
       "DS    100000           57909\n",
       "      100001           53063\n",
       "      100002           69803\n",
       "      100003           25482\n",
       "      100004           63315\n",
       "      100005           39668\n",
       "      100006           77636\n",
       "      100007           76190\n",
       "      100008           56400\n",
       "      100009           56581\n",
       "      100010           77893\n",
       "DSB   100000           27585\n",
       "      100001           67856\n",
       "      100002           27936\n",
       "      100003           58154\n",
       "      100004           39003\n",
       "      100005           56396\n",
       "      100006           32333\n",
       "      100007           29702\n",
       "      100008           47121\n",
       "      100009           51749\n",
       "      100010           92654\n",
       "DTB   100000           77252\n",
       "      100001           60675\n",
       "      100002           48616\n",
       "      100003           84574\n",
       "      100004           44435\n",
       "      100005           37795\n",
       "      100006           41909\n",
       "      100007           29308\n",
       "      100008           69352\n",
       "      100009           52926\n",
       "      100010           71396\n",
       "Name: Value, dtype: int64"
      ]
     },
     "execution_count": 9,
     "metadata": {},
     "output_type": "execute_result"
    }
   ],
   "source": [
    "total_value_by_custcode"
   ]
  },
  {
   "cell_type": "code",
   "execution_count": null,
   "metadata": {},
   "outputs": [],
   "source": []
  }
 ],
 "metadata": {
  "kernelspec": {
   "display_name": "practice",
   "language": "python",
   "name": "python3"
  },
  "language_info": {
   "codemirror_mode": {
    "name": "ipython",
    "version": 3
   },
   "file_extension": ".py",
   "mimetype": "text/x-python",
   "name": "python",
   "nbconvert_exporter": "python",
   "pygments_lexer": "ipython3",
   "version": "3.8.10"
  },
  "orig_nbformat": 4
 },
 "nbformat": 4,
 "nbformat_minor": 2
}
